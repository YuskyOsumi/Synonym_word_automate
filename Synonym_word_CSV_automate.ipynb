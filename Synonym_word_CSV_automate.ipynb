{
 "cells": [
  {
   "cell_type": "code",
   "execution_count": null,
   "metadata": {},
   "outputs": [],
   "source": [
    "#モジュールをインポート\n",
    "import requests,bs4,pyperclip,csv                                                   \n",
    "print('weblio類語辞典に接続中...') \n",
    "\n",
    "#CSVファイルからKEYWORD列を取り出す\n",
    "import pandas as pd\n",
    "synonym_data = pd.read_csv(\"CSVのファイル名.csv\" ,encoding='Shift_JISx0213')\n",
    "synonym_data=synonym_data.dropna(subset=['KEYWORD'])\n",
    "synonym_data.head()\n",
    "\n",
    "#類語をweblio類語辞典につないで検索\n",
    "for i in range():\n",
    "    res = requests.get('https://thesaurus.weblio.jp/content/' +synonym_data.iloc[i,0] )  # + ' '.join(sys.argv[1:])\n",
    "    res.raise_for_status()                                                              \n",
    "    soup = bs4.BeautifulSoup(res.text)                                                  \n",
    "    key_elems = soup.select('.nwntsR')                                                  \n",
    "    key_join_elems=''.join(str(key_elems)) \n",
    "    count_elems=key_join_elems.count('\"nwntsR\"')\n",
    "    word_elems=[]                                                                        #類語が表示されてるクラスの個数を確認\n",
    "    if count_elems>1:\n",
    "        for n in range(1,count_elems):                                                   #類語があるかないかで分岐\n",
    "            word_elems.append(key_elems[n].getText()+\"|\")\n",
    "        word_elems_joined=\"\".join(str(word_elems).replace(\"・\",\"|\").replace(\" \",\"\").replace(\",\",\"\").replace(\"'\",\"\"))\n",
    "        synonym_data.loc[i,\"SYNONYMWORD\"]=[word_elems_joined]\n",
    "    else:\n",
    "        synonym_data.loc[i,\"SYNONYMWORD\"]=[\"\"]\n",
    "        print(\"類語辞典にありませんでした。\"+str(i))"
   ]
  },
  {
   "cell_type": "code",
   "execution_count": null,
   "metadata": {},
   "outputs": [],
   "source": [
    "synonym_data.to_csv(\"synonym_python1.csv\",encoding='cp932')\n",
    "synonym_data.head()"
   ]
  }
 ],
 "metadata": {
  "kernelspec": {
   "display_name": "Python 3",
   "language": "python",
   "name": "python3"
  },
  "language_info": {
   "codemirror_mode": {
    "name": "ipython",
    "version": 3
   },
   "file_extension": ".py",
   "mimetype": "text/x-python",
   "name": "python",
   "nbconvert_exporter": "python",
   "pygments_lexer": "ipython3",
   "version": "3.7.0"
  }
 },
 "nbformat": 4,
 "nbformat_minor": 2
}
