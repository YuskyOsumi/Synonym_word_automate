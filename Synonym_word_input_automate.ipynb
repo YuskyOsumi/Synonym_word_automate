{
 "cells": [
  {
   "cell_type": "code",
   "execution_count": 1,
   "metadata": {},
   "outputs": [
    {
     "name": "stdout",
     "output_type": "stream",
     "text": [
      "類語抽出中...\n",
      "検索ワード：簡単\n",
      "[何の変哲もない|プレイン|質素|歴然たる|素朴|判然たる|単純|簡易|簡略|飾り気のない|明白|現然たる|明瞭|平明|飾り気の無い|明らか|プレーン|質樸|何の変哲も無い|粗朴|純朴|粗樸|簡明|簡素|質朴|単純|簡単|簡便|他愛も無い|他愛もない|お安い|たあいない|手軽い|手がるい|易しい|たわいない|易い|安易|単簡|簡易|安直|造作無い|生やさしい|軽い|生易しい|造作ない|たわい無い|楽|たやすい|容易|楽ちん|やすい|なまやさしい|容易い|易易たる|軽易|訳無い|手軽|ちょろい|訳ない|易々たる|他愛ない|やさしい|他愛無い|短簡|御安い|平易|イージー|単純|簡単|易しい|易い|シンプル|易しい|わかりやすい|易い|単純|分り易い|単簡|簡易|分りやすい|分かりやすい|平明|やすい|あっさりした|判り易い|軽易|ちょろい|平たい|わかり易い|分かり易い|やさしい|短簡|平易|易しい|単純|明白|ありのまま|シンプル|単純|簡素|簡単|]\n",
      "クリップボードに類語がコピーされています。\n"
     ]
    }
   ],
   "source": [
    "import requests,bs4,pyperclip,csv                                                   #モジュールをインポート\n",
    "print('類語抽出中...')                                                              # Googleページをダウンロード中にテキストを表示\n",
    "res = requests.get('https://thesaurus.weblio.jp/content/' + input(\"検索ワード：\"))  # + ' '.join(sys.argv[1:])\n",
    "res.raise_for_status()                                                              #ダウンロードのエラーを検知しとく\n",
    "soup = bs4.BeautifulSoup(res.text)                                                  #HTMLページから要素を抽出\n",
    "key_elems = soup.select('.nwntsR')                                                  #類語が表示されているクラスを指定\n",
    "key_join_elems=''.join(str(key_elems))                                              #文字数を数えるように文字列に変換             \n",
    "count_elems=key_join_elems.count('\"nwntsR\"')\n",
    "word_elems=[]                                                                        #類語が表示されてるクラスの個数を確認\n",
    "if count_elems>1:\n",
    "    for i in range(1,count_elems):                                                   #類語があるかないかで分岐\n",
    "        word_elems.append(key_elems[i].getText()+\"|\")\n",
    "    word_elems_joined=\"\".join(str(word_elems).replace(\"・\",\"|\").replace(\" \",\"\").replace(\",\",\"\").replace(\"'\",\"\"))\n",
    "    print(word_elems_joined)\n",
    "    print(\"クリップボードに類語がコピーされています。\")\n",
    "    pyperclip.copy(word_elems_joined)\n",
    "else:                                                                               \n",
    "    print(\"類語辞典にありませんでした。\")     "
   ]
  }
 ],
 "metadata": {
  "kernelspec": {
   "display_name": "Python 3",
   "language": "python",
   "name": "python3"
  },
  "language_info": {
   "codemirror_mode": {
    "name": "ipython",
    "version": 3
   },
   "file_extension": ".py",
   "mimetype": "text/x-python",
   "name": "python",
   "nbconvert_exporter": "python",
   "pygments_lexer": "ipython3",
   "version": "3.7.0"
  }
 },
 "nbformat": 4,
 "nbformat_minor": 2
}
