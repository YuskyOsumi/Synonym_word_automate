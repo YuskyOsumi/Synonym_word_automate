{
 "cells": [
  {
   "cell_type": "code",
   "execution_count": null,
   "metadata": {},
   "outputs": [],
   "source": [
    "import requests,bs4,pyperclip,csv                                                   #モジュールをインポート\n",
    "print('類語抽出中...')                                                              # Googleページをダウンロード中にテキストを表示\n",
    "res = requests.get('https://thesaurus.weblio.jp/content/' + input(\"検索ワード：\"))  # + ' '.join(sys.argv[1:])\n",
    "res.raise_for_status()                                                              #ダウンロードのエラーを検知しとく\n",
    "soup = bs4.BeautifulSoup(res.text)                                                  #HTMLページから要素を抽出\n",
    "key_elems = soup.select('.nwntsR')                                                  #類語が表示されているクラスを指定\n",
    "key_join_elems=''.join(str(key_elems))                                              #文字数を数えるように文字列に変換             \n",
    "count_elems=key_join_elems.count('\"nwntsR\"')\n",
    "word_elems=[]                                                                        #類語が表示されてるクラスの個数を確認\n",
    "if count_elems>1:\n",
    "    for i in range(1,count_elems):                                                   #類語があるかないかで分岐\n",
    "        word_elems.append(key_elems[i].getText()+\"|\")\n",
    "    word_elems_joined=\"\".join(str(word_elems).replace(\"・\",\"|\").replace(\" \",\"\").replace(\",\",\"\").replace(\"'\",\"\"))\n",
    "    print(word_elems_joined)\n",
    "    print(\"クリップボードに類語がコピーされています。\")\n",
    "    pyperclip.copy(word_elems_joined)\n",
    "else:                                                                               \n",
    "    print(\"類語辞典にありませんでした。\")     "
   ]
  }
 ],
 "metadata": {
  "kernelspec": {
   "display_name": "Python 3",
   "language": "python",
   "name": "python3"
  },
  "language_info": {
   "codemirror_mode": {
    "name": "ipython",
    "version": 3
   },
   "file_extension": ".py",
   "mimetype": "text/x-python",
   "name": "python",
   "nbconvert_exporter": "python",
   "pygments_lexer": "ipython3",
   "version": "3.7.0"
  }
 },
 "nbformat": 4,
 "nbformat_minor": 2
}
